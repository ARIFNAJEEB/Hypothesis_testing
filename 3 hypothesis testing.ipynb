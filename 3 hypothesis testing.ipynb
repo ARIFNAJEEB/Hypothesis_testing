{
 "cells": [
  {
   "cell_type": "markdown",
   "id": "ca0d7ae6",
   "metadata": {},
   "source": [
    "# Question 1"
   ]
  },
  {
   "cell_type": "code",
   "execution_count": 1,
   "id": "51f94773",
   "metadata": {},
   "outputs": [],
   "source": [
    "import pandas as pd\n",
    "import numpy as np\n",
    "from scipy import stats\n"
   ]
  },
  {
   "cell_type": "markdown",
   "id": "35991407",
   "metadata": {},
   "source": [
    "## Null hypothesis : both the units are same (Unit A = Unit B)\n",
    "\n",
    "## Alternate Hypothesis : Unit A is much better that Unit B"
   ]
  },
  {
   "cell_type": "code",
   "execution_count": 2,
   "id": "af7891b2",
   "metadata": {},
   "outputs": [],
   "source": [
    "Unit_A = pd.Series([6.809,6.4376,6.9157,7.3012,7.4488,7.3871,6.8755,7.0621,6.684,6.8236,7.393,7.5169,6.9246,6.9256,6.5797,6.8394,6.597,7.2705,7.2828,7.3495,6.9438,7.156,6.5341,7.2854,6.9952,6.8568,7.2163,6.6801,6.9431,7.0852,6.7794,7.2783,7.1561,7.3943,6.9405])\n",
    "Unit_B = pd.Series([6.7703,7.5093,6.73,6.7878,7.1522,6.811,7.2212,6.6606,7.2402,7.0503,6.881,7.4059,6.7652,6.038,7.1581,7.024,6.6672,7.4314,7.307,6.7478,6.8889,7.422,6.5217,7.1688,6.7594,6.9399,7.0133,6.9182,6.3346,7.5459,7.0992,7.118,6.6965,6.578,7.3875])"
   ]
  },
  {
   "cell_type": "code",
   "execution_count": 4,
   "id": "4b5bc083",
   "metadata": {},
   "outputs": [
    {
     "data": {
      "text/plain": [
       "0.4722394724599501"
      ]
     },
     "execution_count": 4,
     "metadata": {},
     "output_type": "execute_result"
    }
   ],
   "source": [
    "stats.ttest_ind(Unit_A,Unit_B)[1]"
   ]
  },
  {
   "cell_type": "markdown",
   "id": "7361b365",
   "metadata": {},
   "source": [
    "## Unit_A=Unit_B, Null Hypothesis is considered as true."
   ]
  },
  {
   "cell_type": "markdown",
   "id": "01d189d0",
   "metadata": {},
   "source": [
    "# Question 2"
   ]
  },
  {
   "cell_type": "markdown",
   "id": "17d9b19f",
   "metadata": {},
   "source": [
    "## Null hypothesis: All the TAT vslues are same for all the 4 libraries\n",
    "\n",
    "## Alternate hypothesis: one of the TAT vslue is different fro rest 3 laboratoyy"
   ]
  },
  {
   "cell_type": "code",
   "execution_count": 5,
   "id": "e39e7076",
   "metadata": {},
   "outputs": [],
   "source": [
    "import pandas as pd\n",
    "from scipy import stats\n",
    "Lab_1 = pd.Series([185.35,170.49,192.77,177.33,193.41,179.45,191.37,166.81,158.81,165.88,174.75,193.37,184.75,178.54,180.19,172.17,172,184.92,187.38,194.17,192.03,193.77,178.24,171.41,178.3,176.13,180.67,177.38,190.36,199.99,181.36,187.37,172.93,187.18,179.03,181.69,185.28,157.14,184.42,183.45,175.5,169.55,166.86,166.33,173.88,189.84,184.88,188.63,216.39,180.57,177.54,182.34,187.35,185.87,188.01,182.62,179.08,189.96,169.15,169.83,181.45,196.13,172.02,181.83,170.41,161.99,138.3,170.61,201.27,202.12,172.62,159.13,143.52,195.85,186.22,168.62,164.88,155.29,168.39,190.02,188.99,175.49,190.88,178.08,210.38,164.27,166.97,176.16,199.72,176.93,185.16,161.05,186.32,149.24,168.62,171.64,185.42,162.43,178.81,172.65,164.65,178.52,170.11,167.15,190.32,167.25,179.2,171.65,166.35,175.41,172.05,181.88,201.11,154.21,145.89,178.49,176.08,202.48,182.4,182.09])\n",
    "Lab_2 = pd.Series([165.53,185.91,194.92,183,169.57,197,166.36,169.6,175.36,198.68,189.12,140.55,160.44,167.03,182.67,155.73,183.07,177.7,191.62,186.85,161.09,173.01,199.43,185.67,182.69,180.45,182.37,189.99,167.55,190.09,168.01,176.5,173.54,153.75,212.8,179.32,173.56,217.86,187.57,163.69,186.49,171.31,202.29,197.68,156.89,168.03,173.09,187.52,193.28,178.04,197.45,172.35,167.63,194.24,179.43,183.62,157.92,173.55,180.86,161.02,178.42,165.12,183.75,186.77,177.59,202.78,176.63,169.11,148.7,154.19,189.65,186.93,168.2,159.14,182.17,198.69,167.9,178.21,170.73,199.62,186.03,156.23,158.08,163.74,161.45,163.45,178.17,194.1,182.6,168.51,191.89,180.53,165.45,168.8,159.92,188.49,205.27,185.63,197.38,186.71,194.81,198.09,164.07,170.48,184.86,189.11,179.68,142.38,167.72,199.9,174.43,168.2,195.07,193.79,175.16,170.66,183.98,174.54,197.18,215.17])\n",
    "Lab_3 = pd.Series([176.7,198.45,201.23,199.61,204.63,181.51,214.21,183.43,191.6,208.43,231,198.37,226.62,214.44,159.69,214.14,212.29,209.25,198.54,229.02,214.71,172.27,205.31,180.35,214.58,231.76,215.78,201.78,191.64,217.56,193.04,217.66,198.68,206.49,198.81,200.58,199.91,190.34,181.87,214.39,189.61,203.58,196.64,225.42,175.13,228.21,229.33,170.58,177.76,207.34,178.07,188.32,193.26,201.17,192.75,192.81,183.1,181.92,209.43,180.11,172.92,205.01,206.46,192.48,237.49,173.08,193.08,203.24,215.17,186.83,199.7,225.14,213.18,237.23,189.98,193.63,184.7,175.87,180.94,211.19,205.54,219.55,197.33,205.62,238.7,192.5,208.35,208.04,222.47,207.6,194.59,184.28,174.55,188.53,204.28,202.95,177.62,201.99,195.6,178.86,211.23,213.29,199.12,187.97,180.93,213.22,175.36,187.6,208.33,172.86,211.64,183.19,203.05,197.88,203.39,193.8,215.25,203.99,194.52,221.49])\n",
    "Lab_4 = pd.Series([166.13,160.79,185.18,176.42,152.6,161.12,154.02,163.25,152.79,161.98,171.22,183.67,142.95,152.37,163.81,156.06,176.44,173.68,161.49,175.05,150.22,48.17,166.21,145.4,166.42,132.21,143.26,154.06,179.08,144.82,184.64,188.49,198.69,142.43,169.68,174.79,133.31,176.42,176.67,158.2,157.02,154.55,157.58,161.96,168.14,180.14,170.28,166.68,161.42,153.97,167.5,165.43,150.83,149.96,161.94,146.46,174.83,181.66,164.82,181.35,176.21,152.4,159.63,156.56,168.11,145.07,128.93,165.95,181.76,168.17,162.11,177.03,124.06,138.48,167.83,165.07,153.74,172.72,159.97,167.26,164.98,154.06,168.92,168.9,157.48,164.03,162.76,173.37,152.13,187.08,162.84,162.67,157.21,156.79,172.38,167.62,172.72,167.55,132.49,166.18,176.79,197.98,184.78,180.51,167.27,159.34,142.35,167.07,126.94,205.18,152.31,191.26,160.98,192.23,139.34,172.68,177.64,170.27,150.87,162.21])"
   ]
  },
  {
   "cell_type": "code",
   "execution_count": 6,
   "id": "5639ae99",
   "metadata": {},
   "outputs": [
    {
     "data": {
      "text/plain": [
       "F_onewayResult(statistic=110.2747666303269, pvalue=3.2077274218123835e-54)"
      ]
     },
     "execution_count": 6,
     "metadata": {},
     "output_type": "execute_result"
    }
   ],
   "source": [
    "stats.f_oneway(Lab_1,Lab_2,Lab_3,Lab_4)"
   ]
  },
  {
   "cell_type": "markdown",
   "id": "2a4e08da",
   "metadata": {},
   "source": [
    "# Question 3`"
   ]
  },
  {
   "cell_type": "markdown",
   "id": "4a452d1b",
   "metadata": {},
   "source": [
    "### null hypothesis : if p-value is similar then null hypothesis is true\n",
    "\n",
    "### Alternate hypothesis : if p-value <alpha, the alternate hypothesis is true \n",
    "`"
   ]
  },
  {
   "cell_type": "code",
   "execution_count": 8,
   "id": "be6df6b7",
   "metadata": {},
   "outputs": [
    {
     "data": {
      "text/html": [
       "<div>\n",
       "<style scoped>\n",
       "    .dataframe tbody tr th:only-of-type {\n",
       "        vertical-align: middle;\n",
       "    }\n",
       "\n",
       "    .dataframe tbody tr th {\n",
       "        vertical-align: top;\n",
       "    }\n",
       "\n",
       "    .dataframe thead th {\n",
       "        text-align: right;\n",
       "    }\n",
       "</style>\n",
       "<table border=\"1\" class=\"dataframe\">\n",
       "  <thead>\n",
       "    <tr style=\"text-align: right;\">\n",
       "      <th></th>\n",
       "      <th>Observed Values</th>\n",
       "      <th>East</th>\n",
       "      <th>West</th>\n",
       "      <th>North</th>\n",
       "      <th>South</th>\n",
       "    </tr>\n",
       "  </thead>\n",
       "  <tbody>\n",
       "    <tr>\n",
       "      <th>0</th>\n",
       "      <td>Males</td>\n",
       "      <td>50</td>\n",
       "      <td>142</td>\n",
       "      <td>131</td>\n",
       "      <td>70</td>\n",
       "    </tr>\n",
       "    <tr>\n",
       "      <th>1</th>\n",
       "      <td>Females</td>\n",
       "      <td>435</td>\n",
       "      <td>1523</td>\n",
       "      <td>1356</td>\n",
       "      <td>750</td>\n",
       "    </tr>\n",
       "  </tbody>\n",
       "</table>\n",
       "</div>"
      ],
      "text/plain": [
       "  Observed Values  East  West  North  South\n",
       "0           Males    50   142    131     70\n",
       "1         Females   435  1523   1356    750"
      ]
     },
     "execution_count": 8,
     "metadata": {},
     "output_type": "execute_result"
    }
   ],
   "source": [
    "buyers=pd.read_csv('BuyerRatio.csv')\n",
    "buyers.head()"
   ]
  },
  {
   "cell_type": "code",
   "execution_count": 9,
   "id": "4364edf0",
   "metadata": {},
   "outputs": [
    {
     "data": {
      "text/html": [
       "<div>\n",
       "<style scoped>\n",
       "    .dataframe tbody tr th:only-of-type {\n",
       "        vertical-align: middle;\n",
       "    }\n",
       "\n",
       "    .dataframe tbody tr th {\n",
       "        vertical-align: top;\n",
       "    }\n",
       "\n",
       "    .dataframe thead th {\n",
       "        text-align: right;\n",
       "    }\n",
       "</style>\n",
       "<table border=\"1\" class=\"dataframe\">\n",
       "  <thead>\n",
       "    <tr style=\"text-align: right;\">\n",
       "      <th></th>\n",
       "      <th>East</th>\n",
       "      <th>West</th>\n",
       "      <th>North</th>\n",
       "      <th>South</th>\n",
       "    </tr>\n",
       "  </thead>\n",
       "  <tbody>\n",
       "    <tr>\n",
       "      <th>count</th>\n",
       "      <td>2.000000</td>\n",
       "      <td>2.000000</td>\n",
       "      <td>2.000000</td>\n",
       "      <td>2.000000</td>\n",
       "    </tr>\n",
       "    <tr>\n",
       "      <th>mean</th>\n",
       "      <td>242.500000</td>\n",
       "      <td>832.500000</td>\n",
       "      <td>743.500000</td>\n",
       "      <td>410.000000</td>\n",
       "    </tr>\n",
       "    <tr>\n",
       "      <th>std</th>\n",
       "      <td>272.236111</td>\n",
       "      <td>976.514465</td>\n",
       "      <td>866.205807</td>\n",
       "      <td>480.832611</td>\n",
       "    </tr>\n",
       "    <tr>\n",
       "      <th>min</th>\n",
       "      <td>50.000000</td>\n",
       "      <td>142.000000</td>\n",
       "      <td>131.000000</td>\n",
       "      <td>70.000000</td>\n",
       "    </tr>\n",
       "    <tr>\n",
       "      <th>25%</th>\n",
       "      <td>146.250000</td>\n",
       "      <td>487.250000</td>\n",
       "      <td>437.250000</td>\n",
       "      <td>240.000000</td>\n",
       "    </tr>\n",
       "    <tr>\n",
       "      <th>50%</th>\n",
       "      <td>242.500000</td>\n",
       "      <td>832.500000</td>\n",
       "      <td>743.500000</td>\n",
       "      <td>410.000000</td>\n",
       "    </tr>\n",
       "    <tr>\n",
       "      <th>75%</th>\n",
       "      <td>338.750000</td>\n",
       "      <td>1177.750000</td>\n",
       "      <td>1049.750000</td>\n",
       "      <td>580.000000</td>\n",
       "    </tr>\n",
       "    <tr>\n",
       "      <th>max</th>\n",
       "      <td>435.000000</td>\n",
       "      <td>1523.000000</td>\n",
       "      <td>1356.000000</td>\n",
       "      <td>750.000000</td>\n",
       "    </tr>\n",
       "  </tbody>\n",
       "</table>\n",
       "</div>"
      ],
      "text/plain": [
       "             East         West        North       South\n",
       "count    2.000000     2.000000     2.000000    2.000000\n",
       "mean   242.500000   832.500000   743.500000  410.000000\n",
       "std    272.236111   976.514465   866.205807  480.832611\n",
       "min     50.000000   142.000000   131.000000   70.000000\n",
       "25%    146.250000   487.250000   437.250000  240.000000\n",
       "50%    242.500000   832.500000   743.500000  410.000000\n",
       "75%    338.750000  1177.750000  1049.750000  580.000000\n",
       "max    435.000000  1523.000000  1356.000000  750.000000"
      ]
     },
     "execution_count": 9,
     "metadata": {},
     "output_type": "execute_result"
    }
   ],
   "source": [
    "buyers.describe()"
   ]
  },
  {
   "cell_type": "code",
   "execution_count": 10,
   "id": "d2d0bdb9",
   "metadata": {},
   "outputs": [
    {
     "name": "stdout",
     "output_type": "stream",
     "text": [
      "<class 'pandas.core.frame.DataFrame'>\n",
      "RangeIndex: 2 entries, 0 to 1\n",
      "Data columns (total 5 columns):\n",
      " #   Column           Non-Null Count  Dtype \n",
      "---  ------           --------------  ----- \n",
      " 0   Observed Values  2 non-null      object\n",
      " 1   East             2 non-null      int64 \n",
      " 2   West             2 non-null      int64 \n",
      " 3   North            2 non-null      int64 \n",
      " 4   South            2 non-null      int64 \n",
      "dtypes: int64(4), object(1)\n",
      "memory usage: 208.0+ bytes\n"
     ]
    }
   ],
   "source": [
    "buyers.info()"
   ]
  },
  {
   "cell_type": "code",
   "execution_count": 11,
   "id": "d7773e1e",
   "metadata": {},
   "outputs": [
    {
     "data": {
      "text/html": [
       "<div>\n",
       "<style scoped>\n",
       "    .dataframe tbody tr th:only-of-type {\n",
       "        vertical-align: middle;\n",
       "    }\n",
       "\n",
       "    .dataframe tbody tr th {\n",
       "        vertical-align: top;\n",
       "    }\n",
       "\n",
       "    .dataframe thead th {\n",
       "        text-align: right;\n",
       "    }\n",
       "</style>\n",
       "<table border=\"1\" class=\"dataframe\">\n",
       "  <thead>\n",
       "    <tr style=\"text-align: right;\">\n",
       "      <th>col_0</th>\n",
       "      <th>0</th>\n",
       "    </tr>\n",
       "    <tr>\n",
       "      <th>Observed Values</th>\n",
       "      <th></th>\n",
       "    </tr>\n",
       "  </thead>\n",
       "  <tbody>\n",
       "    <tr>\n",
       "      <th>Females</th>\n",
       "      <td>1</td>\n",
       "    </tr>\n",
       "    <tr>\n",
       "      <th>Males</th>\n",
       "      <td>1</td>\n",
       "    </tr>\n",
       "  </tbody>\n",
       "</table>\n",
       "</div>"
      ],
      "text/plain": [
       "col_0            0\n",
       "Observed Values   \n",
       "Females          1\n",
       "Males            1"
      ]
     },
     "execution_count": 11,
     "metadata": {},
     "output_type": "execute_result"
    }
   ],
   "source": [
    "chi=pd.crosstab(buyers['Observed Values'],0)\n",
    "chi"
   ]
  },
  {
   "cell_type": "code",
   "execution_count": 13,
   "id": "6ce80a8d",
   "metadata": {},
   "outputs": [
    {
     "data": {
      "text/plain": [
       "Chi2ContingencyResult(statistic=0.0, pvalue=1.0, dof=0, expected_freq=array([[1.],\n",
       "       [1.]]))"
      ]
     },
     "execution_count": 13,
     "metadata": {},
     "output_type": "execute_result"
    }
   ],
   "source": [
    "stats.chi2_contingency(chi)"
   ]
  },
  {
   "cell_type": "markdown",
   "id": "071da4bd",
   "metadata": {},
   "source": [
    "#### Therefore, the p-value is similar , null hypothesis is true"
   ]
  },
  {
   "cell_type": "markdown",
   "id": "ae7bff53",
   "metadata": {},
   "source": [
    "# Questoin 4"
   ]
  },
  {
   "cell_type": "markdown",
   "id": "c584b0e8",
   "metadata": {},
   "source": [
    "### Null Hypothesis: There are no error in any of the 4 centers used by the Telecenter\n",
    "### Alternate Hypothesis: There is a error present in one of the 4 centers\n",
    "### In the below problem we consider, \"Error Free=1 & Defective=0\""
   ]
  },
  {
   "cell_type": "code",
   "execution_count": 16,
   "id": "02167609",
   "metadata": {},
   "outputs": [],
   "source": [
    "Phillippines = pd.Series([1,1,1,1,1,1,1,1,1,1,0,1,1,1,1,1,1,1,1,0,1,1,1,0,1,1,1,1,1,1,1,1,1,0,1,1,1,1,1,0,1,0,1,1,0,1,1,0,1,1,1,1,1,1,1,1,1,1,1,0,1,1,1,1,1,1,1,1,1,1,1,0,1,1,1,1,1,0,0,1,1,1,0,0,1,1,1,1,1,0,1,1,1,1,1,1,1,1,0,1,1,0,0,0,1,1,1,1,1,1,1,1,1,1,1,1,1,0,1,1,1,1,1,1,1,1,1,1,0,1,1,1,1,1,1,1,1,1,1,1,1,1,0,1,1,1,1,1,1,1,1,1,1,1,1,1,1,1,1,1,1,1,1,1,1,0,1,0,1,1,1,1,1,1,1,1,1,1,1,1,1,1,1,1,1,0,1,1,1,1,1,1,1,1,1,1,1,1,1,1,1,1,1,1,1,1,1,1,1,1,1,1,1,1,1,1,1,1,1,1,1,1,0,1,0,1,1,1,1,1,1,1,1,1,1,1,1,1,1,1,1,1,1,1,1,1,1,1,1,1,1,1,1,1,1,1,1,1,1,1,1,1,1,1,1,1,1,1,1,1,1,1,1,1,1,1,1,1,1,1,1,11,1,1,1,1,1,1,0,1,0,1,1,1,1,1,1,1,1])\n",
    "Indonesia = pd.Series([1,1,0,1,1,1,0,1,1,1,1,1,1,1,1,1,1,1,1,1,1,1,1,1,1,1,1,1,1,1,1,1,1,1,1,1,1,1,1,1,1,1,1,1,1,1,1,1,1,1,1,0,1,1,1,1,1,1,1,1,1,1,1,1,1,1,1,1,0,1,1,0,1,1,1,1,1,1,1,1,1,1,1,1,1,1,1,1,1,0,1,1,1,1,1,1,0,1,1,1,1,1,1,1,1,1,1,1,1,0,1,1,1,1,0,1,1,1,1,1,1,1,1,1,1,1,0,1,1,1,1,1,1,1,1,1,1,1,0,0,1,1,1,1,1,1,1,1,1,1,0,1,1,1,1,1,1,1,1,0,1,1,1,1,1,1,1,1,0,1,0,1,1,1,1,0,1,1,1,0,1,1,1,0,1,1,0,1,1,1,1,1,1,1,1,1,1,1,0,1,1,1,1,1,1,1,1,0,1,1,1,1,1,1,1,1,0,1,1,1,1,1,1,1,1,0,1,1,1,1,1,1,1,1,0,1,1,1,1,1,1,1,1,0,1,1,1,1,1,1,1,1,1,0,1,1,1,1,1,1,1,0,1,1,1,1,1,1,1,1,1,1,1,1,0,1,1,1,1,1,1,1,1,0,1,1,1,1,1,1,1,1,0,1,0,1,1,1,1,0])\n",
    "Malta = pd.Series([0,1,0,1,0,1,1,1,1,1,1,1,1,1,1,0,1,1,1,1,1,0,1,1,1,1,1,1,1,1,1,1,1,1,1,1,1,0,1,0,1,1,1,1,0,1,1,1,1,1,1,1,1,1,1,1,1,1,1,1,1,1,1,1,1,1,0,1,1,1,1,1,1,0,1,0,1,1,1,1,1,1,1,1,1,0,1,0,0,1,1,1,1,1,1,1,1,1,1,0,1,0,1,1,1,1,1,1,1,1,1,1,1,1,1,1,1,1,1,1,1,1,0,1,1,1,1,1,1,1,1,1,1,1,1,1,1,1,1,1,1,1,0,1,1,1,1,1,1,1,0,1,1,1,1,1,1,1,1,1,1,1,1,1,0,1,1,1,1,1,1,1,1,0,1,0,1,1,1,1,1,1,1,1,1,1,1,1,1,1,1,1,1,1,1,1,1,1,1,1,1,1,1,1,1,1,1,0,1,1,1,1,1,1,1,1,1,1,1,1,1,0,1,1,1,1,1,1,1,1,1,1,1,1,0,1,1,1,1,1,1,1,1,1,1,1,1,1,1,1,1,1,1,0,1,1,1,1,1,1,1,0,1,1,1,1,1,1,1,1,1,1,1,1,0,1,1,1,1,1,1,1,1,1,1,1,1,1,0,1,1,1,1,1,1,1,1,0,1,0])\n",
    "India =pd.Series([1,0,1,1,1,1,1,1,1,1,1,1,0,1,1,1,1,1,1,0,1,1,1,1,1,1,1,1,1,1,1,0,1,1,1,1,1,1,1,1,1,1,1,1,1,1,1,1,1,0,1,1,1,1,1,1,1,1,1,1,0,1,1,1,1,1,1,1,1,1,1,1,1,1,1,1,1,1,0,1,1,0,1,1,1,1,1,1,1,1,1,1,1,1,1,1,1,1,1,1,1,1,1,1,1,1,1,1,1,1,1,1,1,1,1,1,1,1,1,1,1,1,1,1,1,1,1,1,1,1,1,1,1,1,1,1,1,0,0,1,1,1,1,1,1,1,1,1,1,1,1,1,1,1,1,1,1,1,1,1,1,0,1,1,1,1,1,1,1,1,1,1,1,1,1,1,1,0,0,1,1,1,1,0,0,1,1,0,1,1,1,1,1,1,1,1,1,0,1,1,1,1,1,1,1,1,1,1,1,1,1,1,1,1,1,1,1,1,0,1,1,1,1,1,1,1,1,1,1,1,1,1,1,1,1,1,1,1,1,1,1,1,1,1,1,0,1,1,1,1,1,1,1,1,1,1,1,1,1,1,1,1,1,1,1,1,1,1,1,1,1,1,1,1,1,1,1,1,1,1,1,1,1,1,1,0,1,1,1,1,1,1,1,1,1,1,1,1,1,1])"
   ]
  },
  {
   "cell_type": "code",
   "execution_count": 17,
   "id": "84701b2d",
   "metadata": {},
   "outputs": [
    {
     "data": {
      "text/plain": [
       "F_onewayResult(statistic=1.0286050763762675, pvalue=0.3789854163641306)"
      ]
     },
     "execution_count": 17,
     "metadata": {},
     "output_type": "execute_result"
    }
   ],
   "source": [
    "stats.f_oneway(Phillippines,Indonesia,Malta,India)"
   ]
  },
  {
   "cell_type": "markdown",
   "id": "1e3446d9",
   "metadata": {},
   "source": [
    "### Therefore the value of p is less than 5%, So Null Hypothesis is true"
   ]
  },
  {
   "cell_type": "code",
   "execution_count": null,
   "id": "22405982",
   "metadata": {},
   "outputs": [],
   "source": []
  }
 ],
 "metadata": {
  "kernelspec": {
   "display_name": "Python 3 (ipykernel)",
   "language": "python",
   "name": "python3"
  },
  "language_info": {
   "codemirror_mode": {
    "name": "ipython",
    "version": 3
   },
   "file_extension": ".py",
   "mimetype": "text/x-python",
   "name": "python",
   "nbconvert_exporter": "python",
   "pygments_lexer": "ipython3",
   "version": "3.10.9"
  }
 },
 "nbformat": 4,
 "nbformat_minor": 5
}
